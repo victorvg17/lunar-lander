{
  "nbformat": 4,
  "nbformat_minor": 0,
  "metadata": {
    "colab": {
      "name": "dl_runs.ipynb",
      "provenance": [],
      "collapsed_sections": [],
      "toc_visible": true
    },
    "kernelspec": {
      "name": "python3",
      "display_name": "Python 3"
    },
    "accelerator": "GPU"
  },
  "cells": [
    {
      "cell_type": "markdown",
      "metadata": {
        "id": "G1lPjH-M5Bw0",
        "colab_type": "text"
      },
      "source": [
        "# Copy files from Colab to Drive"
      ]
    },
    {
      "cell_type": "code",
      "metadata": {
        "id": "zUeVcnW3QFJu",
        "colab_type": "code",
        "colab": {}
      },
      "source": [
        "from pathlib import Path\n",
        "from distutils.dir_util import copy_tree\n",
        "\n",
        "def import2drive(src, dst, folders):\n",
        "  for folder in folders:\n",
        "    dst_folder = dst / folder\n",
        "    src_folder = src / folder\n",
        "    try:\n",
        "      print(f'copying {src_folder} to {dst_folder}')\n",
        "      copy_tree(str(src_folder), str(dst_folder))\n",
        "    except Exception as ex:\n",
        "      print(ex)"
      ],
      "execution_count": 0,
      "outputs": []
    },
    {
      "cell_type": "markdown",
      "metadata": {
        "id": "os6bOccRb9_v",
        "colab_type": "text"
      },
      "source": [
        "#### Use the call below to copy Models and Tensorboard from Collab Machine to Gdrive"
      ]
    },
    {
      "cell_type": "code",
      "metadata": {
        "id": "0RwNhN7DWk8X",
        "colab_type": "code",
        "outputId": "a8e50701-0585-4bbb-d23e-3b68ececd50d",
        "colab": {
          "base_uri": "https://localhost:8080/",
          "height": 51
        }
      },
      "source": [
        "folders = ['models', 'tensorboard']\n",
        "source = Path('.').resolve()\n",
        "dest = Path('.').resolve().parent / 'gdrive' / 'My Drive' / 'dl2019-6'\n",
        "import2drive(src=source, dst=dest, folders=folders)"
      ],
      "execution_count": 17,
      "outputs": [
        {
          "output_type": "stream",
          "text": [
            "copying /content/dl2019-6/models to /content/gdrive/My Drive/dl2019-6/models\n",
            "copying /content/dl2019-6/tensorboard to /content/gdrive/My Drive/dl2019-6/tensorboard\n"
          ],
          "name": "stdout"
        }
      ]
    },
    {
      "cell_type": "markdown",
      "metadata": {
        "id": "mGs8Acq5bfut",
        "colab_type": "text"
      },
      "source": [
        "# 1. Add Gdrive to the collab machine"
      ]
    },
    {
      "cell_type": "code",
      "metadata": {
        "id": "IYU4P0Tnj9-3",
        "colab_type": "code",
        "outputId": "5c9cd99d-805e-4712-dbd1-5f780d70cdbc",
        "colab": {
          "base_uri": "https://localhost:8080/",
          "height": 122
        }
      },
      "source": [
        "# connect G-drive\n",
        "from google.colab import drive\n",
        "drive.mount('/content/gdrive', force_remount=True)"
      ],
      "execution_count": 1,
      "outputs": [
        {
          "output_type": "stream",
          "text": [
            "Go to this URL in a browser: https://accounts.google.com/o/oauth2/auth?client_id=947318989803-6bn6qk8qdgf4n4g3pfee6491hc0brc4i.apps.googleusercontent.com&redirect_uri=urn%3aietf%3awg%3aoauth%3a2.0%3aoob&response_type=code&scope=email%20https%3a%2f%2fwww.googleapis.com%2fauth%2fdocs.test%20https%3a%2f%2fwww.googleapis.com%2fauth%2fdrive%20https%3a%2f%2fwww.googleapis.com%2fauth%2fdrive.photos.readonly%20https%3a%2f%2fwww.googleapis.com%2fauth%2fpeopleapi.readonly\n",
            "\n",
            "Enter your authorization code:\n",
            "··········\n",
            "Mounted at /content/gdrive\n"
          ],
          "name": "stdout"
        }
      ]
    },
    {
      "cell_type": "markdown",
      "metadata": {
        "id": "DRgVPwIM1-vQ",
        "colab_type": "text"
      },
      "source": [
        "# 2. Copy necessary files from Drive to Colab machine"
      ]
    },
    {
      "cell_type": "code",
      "metadata": {
        "id": "qR4bMdHrkVMu",
        "colab_type": "code",
        "colab": {}
      },
      "source": [
        "# copy necessary files to run-time machine\n",
        "!mkdir dl2019-6\n",
        "!cp gdrive/My\\ Drive/dl2019-6/*.py ./dl2019-6\n",
        "!cp -r gdrive/My\\ Drive/dl2019-6/agent ./dl2019-6/agent\n",
        "!cp -r gdrive/My\\ Drive/dl2019-6/data ./dl2019-6/data\n",
        "!cp -r gdrive/My\\ Drive/dl2019-6/results ./dl2019-6/results"
      ],
      "execution_count": 0,
      "outputs": []
    },
    {
      "cell_type": "markdown",
      "metadata": {
        "id": "QLgUDFvN2Np2",
        "colab_type": "text"
      },
      "source": [
        "# 3. Change directory to /content/dl2019-6/ for python to run correctly"
      ]
    },
    {
      "cell_type": "code",
      "metadata": {
        "id": "mLRd8ghuwRBl",
        "colab_type": "code",
        "outputId": "e4640e93-f924-4d21-8bdf-97581303d1f0",
        "colab": {
          "base_uri": "https://localhost:8080/",
          "height": 34
        }
      },
      "source": [
        "cd /content/dl2019-6/"
      ],
      "execution_count": 3,
      "outputs": [
        {
          "output_type": "stream",
          "text": [
            "/content/dl2019-6\n"
          ],
          "name": "stdout"
        }
      ]
    },
    {
      "cell_type": "markdown",
      "metadata": {
        "id": "WaJLQ4dt2mEO",
        "colab_type": "text"
      },
      "source": [
        "# 4. Run the trianing (check the config.py for training settings)"
      ]
    },
    {
      "cell_type": "code",
      "metadata": {
        "id": "YSmWXrWvoYRt",
        "colab_type": "code",
        "outputId": "5396184c-a1fa-4236-caf6-2aa7639641ba",
        "colab": {
          "base_uri": "https://localhost:8080/",
          "height": 731
        }
      },
      "source": [
        "# --- Train the model ---\n",
        "!python train.py"
      ],
      "execution_count": 15,
      "outputs": [
        {
          "output_type": "stream",
          "text": [
            "\n",
            "reading  data from ./data\n",
            "files: ['./data/data1.pkl.gzip', './data/data0.pkl.gzip']\n",
            "\n",
            "--- current file: ./data/data1.pkl.gzip ---\n",
            "X_train shape: (4500, 8),             y_train shape: (4500, 1)\n",
            "X_valid shape: (500, 8),             y_valid shape: (500, 1)\n",
            "\n",
            "--- preprocessing data ---\n",
            "\n",
            "--- training ---\n",
            "class weights: tensor([0.0307, 0.4797, 0.0664, 0.4232])\n",
            "\n",
            "Epoch:0\n",
            "Batch Training : 18it [00:01, 17.46it/s]\n",
            "\n",
            "Epoch:1\n",
            "Batch Training : 18it [00:01, 17.04it/s]\n",
            "\n",
            "Epoch:2\n",
            "Batch Training : 18it [00:01, 16.47it/s]\n",
            "Model saved in file: ./models/agent_2020-03-04--09-31.pt\n",
            "\n",
            "--- current file: ./data/data0.pkl.gzip ---\n",
            "X_train shape: (4500, 8),             y_train shape: (4500, 1)\n",
            "X_valid shape: (500, 8),             y_valid shape: (500, 1)\n",
            "\n",
            "--- preprocessing data ---\n",
            "\n",
            "--- training ---\n",
            "class weights: tensor([0.0451, 0.4261, 0.0967, 0.4322])\n",
            "loaded model: ./models/agent_2020-03-04--09-31.pt\n",
            "\n",
            "Epoch:0\n",
            "Batch Training : 18it [00:01, 14.04it/s]\n",
            "\n",
            "Epoch:1\n",
            "Batch Training : 18it [00:01, 13.86it/s]\n",
            "\n",
            "Epoch:2\n",
            "Batch Training : 18it [00:01, 14.26it/s]\n",
            "Model saved in file: ./models/agent_2020-03-04--09-31.pt\n"
          ],
          "name": "stdout"
        }
      ]
    }
  ]
}